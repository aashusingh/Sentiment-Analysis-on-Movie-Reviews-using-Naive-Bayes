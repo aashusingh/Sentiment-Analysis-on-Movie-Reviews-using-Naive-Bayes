{
 "cells": [
  {
   "cell_type": "markdown",
   "metadata": {},
   "source": [
    "Problem Set 1a: Text classification using Naive Bayes\n",
    "==============\n",
    "\n",
    "\n",
    "\n",
    "In this problem set, we will build a system for classifying movie reviews as positive, negative, or neutral. You will:\n",
    "\n",
    "- Do some basic text processing, tokenizing your input and converting it into a bag-of-words representation\n",
    "- Build a classifier based on sentiment word lists\n",
    "- Build a machine learning classifier, using Naive Bayes\n",
    "- Evaluate your classifiers and examine what they have learned\n",
    "\n"
   ]
  },
  {
   "cell_type": "markdown",
   "metadata": {},
   "source": [
    "## Installation ##\n",
    "\n",
    "You may need to install some of the libraries below. Usually this is done with pip or easy_install. See here:\n",
    "\n",
    "- [NLTK](http://www.nltk.org/install.html)\n",
    "- [matplotlib](http://matplotlib.org/users/installing.html)\n",
    "- [numpy](http://docs.scipy.org/doc/numpy/user/install.html)"
   ]
  },
  {
   "cell_type": "code",
   "execution_count": 1,
   "metadata": {
    "collapsed": false
   },
   "outputs": [],
   "source": [
    "from __future__ import division\n",
    "from nltk.tokenize import word_tokenize, sent_tokenize\n",
    "from collections import defaultdict, Counter\n",
    "from matplotlib import pyplot as plt\n",
    "import numpy as np\n",
    "import scorer\n",
    "import operator"
   ]
  },
  {
   "cell_type": "markdown",
   "metadata": {},
   "source": [
    "# 1. Data Processing #\n",
    "(_Completing docsToBOWs() - 4 pts, each question in Deliverable 1 is worth 1 pt. Total 8 pts for part 1_)\n",
    "\n",
    "Your first step is to write code that can apply the following\n",
    "preprocessing steps. You will have to run this code fairly quickly on\n",
    "the test data when you receive it, so make sure it is modular and\n",
    "well-written.\n",
    "\n",
    "- You will edit a function that takes as its argument a \"key\" document.\n",
    "  It should produce a \"BOW\" (bag-of-words) document.\n",
    "  Each line of the key document contains a filename and a label.\n",
    "  Each line of the BOW document should contain a BOW representation of the corresponding\n",
    "  file in the key document. \n",
    "- A BOW representation looks like this: \"word:count word:count word:count...\" for every word that appears in\n",
    "  the document. Do not print words that have zero count. Use space delimiters.\n",
    "- Use NLTK's [tokenization package](http://nltk.org/api/nltk.tokenize.html) function \n",
    "  to divide each file into sentences, and each sentence into tokens.\n",
    "- Downcase all tokens\n",
    "- Only consider tokens that are completely alphabetic.\n",
    "\n",
    "I have provided some shell code, but you will have to fill in the tokenization and filtering steps."
   ]
  },
  {
   "cell_type": "code",
   "execution_count": 2,
   "metadata": {
    "collapsed": false
   },
   "outputs": [],
   "source": [
    "def docsToBOWs(keyfile):\n",
    "    with open(keyfile,'r') as keys:\n",
    "        with open(keyfile.replace('.key','.bow'),'w') as outfile:\n",
    "            for keyline in keys:\n",
    "                dataloc = keyline.rstrip().split(' ')[0]\n",
    "                fcounts = dict()\n",
    "                with open(dataloc,'r') as infile:\n",
    "                    for line in infile: \n",
    "                        l = line.decode('ascii', 'ignore')\n",
    "                        token_sent = sent_tokenize(l)\n",
    "                        for s in token_sent:\n",
    "                            token_word = word_tokenize(s)\n",
    "                            for w in token_word:\n",
    "                                if w.isalpha():\n",
    "                                    w = w.lower()\n",
    "                                    if fcounts.has_key(w):\n",
    "                                        fcounts[w] += 1\n",
    "                                    else:\n",
    "                                        fcounts[w] = 1\n",
    "                for word,count in fcounts.items():\n",
    "                    print >>outfile,\"{}:{}\".format(word,count), #write the word and its count to a line\n",
    "                print >>outfile,\"\""
   ]
  },
  {
   "cell_type": "markdown",
   "metadata": {},
   "source": [
    "These are the keyfiles that are relevant to this homework. \n",
    "At the beginning you won't have test-imdb.key"
   ]
  },
  {
   "cell_type": "code",
   "execution_count": 3,
   "metadata": {
    "collapsed": false
   },
   "outputs": [],
   "source": [
    "trainkey = 'train-imdb.key'\n",
    "devkey = 'dev-imdb.key'\n",
    "testkey = 'test-imdb.key'"
   ]
  },
  {
   "cell_type": "markdown",
   "metadata": {},
   "source": [
    "Next, run these lines to produce the BOW files."
   ]
  },
  {
   "cell_type": "code",
   "execution_count": 4,
   "metadata": {
    "collapsed": false
   },
   "outputs": [],
   "source": [
    "docsToBOWs(trainkey)\n",
    "docsToBOWs(devkey)\n",
    "# docsToBOWs('test-imdb.key') # you won't have this file yet"
   ]
  },
  {
   "cell_type": "markdown",
   "metadata": {},
   "source": [
    "The next cell defines a [generator function](http://wiki.python.org/moin/Generators), called \"dataIterator\"\n",
    "\n",
    "- This allows you to easily iterate through the dataset defined by a given keyfile. \n",
    "- Each time you call \"next\" (possibly implicitly), it returns a dict containing features and counts for the next document in the sequence. \n",
    "- In this case, the features include the words, and a special \"offset\" feature\n",
    "- This is equivalent to $\\boldsymbol{x}_i$ in the reading.\n",
    "- You can see how this is used in the getAllCounts() function below, which takes a dataIterator as an argument.\n",
    "\n",
    "Lines 7-8 of the code might look confusing if you are not a pythonista. \n",
    "\n",
    "- This is a [list comprehension](http://legacy.python.org/dev/peps/pep-0202/)\n",
    "nested inside a [dict comprehension](http://legacy.python.org/dev/peps/pep-0274/).\n",
    "- Here's an [introduction](http://carlgroner.me/Python/2011/11/09/An-Introduction-to-List-Comprehensions-in-Python.html) with more examples."
   ]
  },
  {
   "cell_type": "code",
   "execution_count": 5,
   "metadata": {
    "collapsed": false
   },
   "outputs": [],
   "source": [
    "offset = '**OFFSET**'\n",
    "def dataIterator(keyfile):\n",
    "    with open(keyfile.replace('key','bow'),'r') as bows:\n",
    "        with open(keyfile,'r') as keys:\n",
    "            for keyline in keys:\n",
    "                textloc,label = keyline.rstrip().split(' ')\n",
    "                fcounts = {word:int(count) for word,count in\\\n",
    "                           [x.split(':') for x in bows.readline().rstrip().split(' ')]}\n",
    "                fcounts[offset] = 1\n",
    "                yield fcounts,label"
   ]
  },
  {
   "cell_type": "markdown",
   "metadata": {},
   "source": [
    "The dataIterator above incrementally re-reads the keyfile and BOW file every time you call it. \n",
    "This is a good idea if you have huge data that won't fit in memory, but the file I/O involves some overhead.\n",
    "If you want, you can write a second dataIterator that iterates across data stored in memory, which\n",
    "will be faster."
   ]
  },
  {
   "cell_type": "markdown",
   "metadata": {},
   "source": [
    "**Sanity check**: How many unique words appear in the training set? (Types, not tokens.) I get 24861. (Don't count the offset feature.)\n",
    "\n",
    "- Note how the dataIterator function is used here. \n",
    "- fcounts is a dict, which it returns for each document.\n",
    "- We are currently ignoring the label, but that is also provided.\n",
    "- This may take a couple of minutes to run"
   ]
  },
  {
   "cell_type": "code",
   "execution_count": 6,
   "metadata": {
    "collapsed": false
   },
   "outputs": [
    {
     "name": "stdout",
     "output_type": "stream",
     "text": [
      "Number of word types in training set:  24999\n",
      "Number of tokens in training set:  466683\n",
      "Number of word types in dev set:  16965\n",
      "Number of tokens in dev set:  223994\n",
      "Token to type ratio for training set:  18.6680667227\n",
      "Token to type ratio for dev set:  13.2033009136\n",
      "Words which appear in dev data but not in training data:  4843\n",
      "Number of words which exactly once in training data:  10910\n",
      "Number of words which exactly once in dev data:  8064\n"
     ]
    }
   ],
   "source": [
    "def getAllCounts(datait):\n",
    "    allcounts = Counter()\n",
    "    for fcounts, _ in datait:\n",
    "        allcounts += Counter(fcounts)\n",
    "    return allcounts\n",
    "\n",
    "ac_train = getAllCounts(dataIterator('train-imdb.key'))\n",
    "ac_dev = getAllCounts(dataIterator('dev-imdb.key'))\n",
    "print \"Number of word types in training set: \",len(ac_train.keys())-1\n",
    "print \"Number of tokens in training set: \",sum(ac_train.values())-1\n",
    "print \"Number of word types in dev set: \",len(ac_dev.keys())-1\n",
    "print \"Number of tokens in dev set: \",sum(ac_dev.values())-1\n",
    "print \"Token to type ratio for training set: \", (sum(ac_train.values())-1) / (len(ac_train.keys())-1) \n",
    "print \"Token to type ratio for dev set: \", (sum(ac_dev.values())-1) / (len(ac_dev.keys())-1) \n",
    "print \"Words which appear in dev data but not in training data: \", len(set(ac_dev.keys()) - set(ac_train.keys()))\n",
    "print \"Number of words which exactly once in training data: \", len([item for item in ac_train.values() if item==1])\n",
    "print \"Number of words which exactly once in dev data: \", len([item for item in ac_dev.values() if item==1])"
   ]
  },
  {
   "cell_type": "markdown",
   "metadata": {},
   "source": [
    "The following code makes a plot, with the log-rank (from 1 to the log of the total number of words) \n",
    "on the x-axis and the log count on the y-axis."
   ]
  },
  {
   "cell_type": "code",
   "execution_count": 7,
   "metadata": {
    "collapsed": false
   },
   "outputs": [
    {
     "name": "stdout",
     "output_type": "stream",
     "text": [
      "Populating the interactive namespace from numpy and matplotlib\n"
     ]
    }
   ],
   "source": [
    "# this enables you to create inline plots in the notebook \n",
    "%pylab inline"
   ]
  },
  {
   "cell_type": "code",
   "execution_count": 8,
   "metadata": {
    "collapsed": false
   },
   "outputs": [
    {
     "data": {
      "text/plain": [
       "<matplotlib.text.Text at 0x70fadf0>"
      ]
     },
     "execution_count": 8,
     "metadata": {},
     "output_type": "execute_result"
    },
    {
     "data": {
      "image/png": "[encoded data removed]",
      "text/plain": [
       "<matplotlib.figure.Figure at 0x2e32430>"
      ]
     },
     "metadata": {},
     "output_type": "display_data"
    }
   ],
   "source": [
    "tr_logcounts = np.log(np.array(sorted(ac_train.values(),reverse=True)))\n",
    "plt.plot(np.log(range(len(tr_logcounts))),tr_logcounts)\n",
    "dv_logcounts = np.log(np.array(sorted(ac_dev.values(),reverse=True)))\n",
    "plt.plot(np.log(range(len(dv_logcounts))),dv_logcounts,'r')\n",
    "plt.xlabel('log rank')\n",
    "plt.ylabel('log count')"
   ]
  },
  {
   "cell_type": "markdown",
   "metadata": {},
   "source": [
    "**Deliverable 1**\n",
    "\n",
    "- Explain what you see in the plot. Does it observe Zipf's law? How well?\n",
    "- Print the token/type ratio for both the training and dev data.\n",
    "- Print the number of types which appear exactly once in the training and dev data\n",
    "- Print the number of types that appear in the dev data but not the training data (hint: use [sets](https://docs.python.org/2/library/sets.html) for this)"
   ]
  },
  {
   "cell_type": "raw",
   "metadata": {},
   "source": [
    "a) Above graphs are linear with negative slope. \n",
    "   Generalized equation of for both lines : log count = K - log rank where K is a constant.\n",
    "   Taking exponential on both sides : count = {e^k} / {rank}, which is what Zipf's law states. For boundary cases , like low rank or low count the graph loses its linearity property.\n",
    "\n",
    "b) Number of word types in training set:  24999\n",
    "   Number of tokens in training set:  466683\n",
    "   Number of word types in dev set:  16965 \n",
    "   Number of tokens in dev set:  223994\n",
    "   Token to type ratio for training set:  18.6680667227\n",
    "   Token to type ratio for dev set:  13.2033009136\n",
    "\n",
    "c) Number of words which exactly once in training data:  10910\n",
    "   Number of words which exactly once in dev data:  8064\n",
    "\n",
    "d) Words which appear in dev data but not in training data:  4843"
   ]
  },
  {
   "cell_type": "markdown",
   "metadata": {},
   "source": [
    "# 2. Word Lists #\n",
    "(_Completing predict() - 3 pts, setting weights - 2 pts, Deliverable 2 - 1 pt. Total 7 pts for part 2_)\n",
    "\n",
    "- We will now build a sentiment analysis system based on word lists. \n",
    "- The file \"sentiment-vocab.tff\" contains a sentiment lexicon from [ Wilson et al 2005](http://people.cs.pitt.edu/~wiebe/pubs/papers/emnlp05polarity.pdf). \n",
    "- The code below reads the lexicon into memory, building sets of positive and negative words."
   ]
  },
  {
   "cell_type": "code",
   "execution_count": 9,
   "metadata": {
    "collapsed": false
   },
   "outputs": [],
   "source": [
    "poswords = set()\n",
    "negwords = set()\n",
    "with open('sentiment-vocab.tff','r') as fin:\n",
    "    for i,line in enumerate(fin):\n",
    "        # more list and dict comprehensions!\n",
    "        kvs = {key:val for key,val in [kvp.split('=') for kvp in line.split() if '=' in kvp]}\n",
    "        if kvs['type'] == 'strongsubj':\n",
    "            if kvs['priorpolarity'] == 'negative':\n",
    "                negwords.add(kvs['word1'])\n",
    "            if kvs['priorpolarity'] == 'positive':\n",
    "                poswords.add(kvs['word1'])"
   ]
  },
  {
   "cell_type": "markdown",
   "metadata": {},
   "source": [
    "Next, you should write a classifier that classifies each instance in a testfile. The classification rule is:\n",
    "\n",
    "- 'POS' if the instance has more words from the positive list than the negative list\n",
    "- 'NEG' if the instance has more words from the negative list than the positive list\n",
    "- 'NEU' (neutral) if the instance has the same number of words from each list\n",
    "\n",
    "To do this, you will write a function \"predict\", \n",
    "which represents the inner-product computation $\\boldsymbol{\\theta}' \\boldsymbol{f}(\\boldsymbol{x},y)$.\n",
    "It should have the following characteristics:\n",
    "\n",
    "- **Input 1** an instance, represented as a dict (with features as keys and counts as values) \n",
    "- **Input 2** a dictionary of weights, where keys are tuples of features and labels, and weights are the values. This corresponds to $\\boldsymbol{\\theta}$ in the reading. See example below.\n",
    "- **Input 3** a list of possible labels\n",
    "- **Output 1** the highest-scoring label\n",
    "- **Output 2** a dict with labels as keys and scores as values"
   ]
  },
  {
   "cell_type": "code",
   "execution_count": 10,
   "metadata": {
    "collapsed": false
   },
   "outputs": [],
   "source": [
    "# use this to find the highest-scoring label\n",
    "argmax = lambda x : max(x.iteritems(),key=operator.itemgetter(1))[0]"
   ]
  },
  {
   "cell_type": "code",
   "execution_count": 11,
   "metadata": {
    "collapsed": false
   },
   "outputs": [],
   "source": [
    "def predict(instance,weights,labels):\n",
    "    scores = defaultdict(int)\n",
    "    for w , count in instance.items():\n",
    "        for label in labels:\n",
    "            scores[label] = scores.get(label,0) + count*weights.get((label,w),0)\n",
    "    return argmax(scores),scores\n",
    "    # return the highest-scoring label, and the scores for all labels"
   ]
  },
  {
   "cell_type": "markdown",
   "metadata": {},
   "source": [
    "Here are weights for the simplest classifier, which simply labels all instances as positive.\n",
    "\n",
    "Note that it uses only the 'offset' feature"
   ]
  },
  {
   "cell_type": "code",
   "execution_count": 12,
   "metadata": {
    "collapsed": false
   },
   "outputs": [],
   "source": [
    "all_labels = ['POS','NEG','NEU']\n",
    "weights_all_pos = defaultdict(int)\n",
    "weights_all_pos.update({('POS',offset):1,('NEG',offset):0,('NEU',offset):0})"
   ]
  },
  {
   "cell_type": "markdown",
   "metadata": {},
   "source": [
    "Here is some code for evaluating your classifiers. \n",
    "It uses a scoring library that I wrote, and writes the output to a file."
   ]
  },
  {
   "cell_type": "code",
   "execution_count": 13,
   "metadata": {
    "collapsed": false
   },
   "outputs": [],
   "source": [
    "def evalClassifier(weights,outfilename,testfile=devkey):    \n",
    "    with open(outfilename,'w') as outfile: #open the output file\n",
    "        for counts,label in dataIterator(testfile): #iterate through eval set\n",
    "            print >>outfile, predict(counts,weights,all_labels)[0] #print prediction to file\n",
    "    return scorer.getConfusion(testfile,outfilename) #run the scorer on the prediction file"
   ]
  },
  {
   "cell_type": "markdown",
   "metadata": {},
   "source": [
    "The code below shows how to evaluate this classifier. \n",
    "\n",
    "- **Sanity check**: You should get 40.7% accuracy just by classifying everything as positive. This is the \"most common class\" (MCC) baseline.\n",
    "\n",
    "The printed output is a **confusion matrix**. \n",
    "The rows indicate the key and the columns indicate the response. \n",
    "In this case, the response is always \"POS\", so there is only one column. \n",
    "The cell NEG/POS tells you how often an example that was labeled \"NEG\" in the key was labeled \"POS\" in the system response."
   ]
  },
  {
   "cell_type": "code",
   "execution_count": 14,
   "metadata": {
    "collapsed": false
   },
   "outputs": [
    {
     "name": "stdout",
     "output_type": "stream",
     "text": [
      "3 classes in key: set(['NEG', 'NEU', 'POS'])\n",
      "1 classes in response: set(['POS'])\n",
      "confusion matrix\n",
      "key\\response:\tPOS\n",
      "NEG\t\t401\t\n",
      "NEU\t\t192\t\n",
      "POS\t\t407\t\n",
      "----------------\n",
      "accuracy: 0.4070 = 407/1000\n",
      "\n",
      "None\n"
     ]
    }
   ],
   "source": [
    "mat = evalClassifier(weights_all_pos,'all_pos.txt')\n",
    "print scorer.printScoreMessage(mat)"
   ]
  },
  {
   "cell_type": "markdown",
   "metadata": {},
   "source": [
    "Now build a classifier based on the word lists. The classifier should have the following decision rule:\n",
    "\n",
    "- If the number of positive words (tokens) is greater than the number of negative words, choose label 'POS'\n",
    "- If the number of negative words (tokens) is greater than the number of positive words, choose label 'NEG'\n",
    "- If they are equal, choose label 'NEU'\n",
    "\n",
    "You should manually set the weights to ensure this behavior; don't change the predict function at all.\n",
    "You'll need to use the offset weights to make sure that ties go to the 'NEU' label."
   ]
  },
  {
   "cell_type": "code",
   "execution_count": 15,
   "metadata": {
    "collapsed": false
   },
   "outputs": [],
   "source": [
    "weights_list = defaultdict(int)\n",
    "for item in poswords:\n",
    "    weights_list.update({('POS',item): 3})\n",
    "for item in negwords:\n",
    "    weights_list.update({('NEG',item): 3})\n",
    "weights_list.update({('NEU',offset):  9})"
   ]
  },
  {
   "cell_type": "markdown",
   "metadata": {},
   "source": [
    "**Deliverable 2**: run your classifier on dev.key, and use the following code to print the resulting confusion matrix.\n",
    "\n",
    "The confusion matrix should now have three columns, since the response should include every class at least once. The count of correct responses is found on the diagonal of the confusion matrix. What is the most frequent type of error?\n",
    "\n",
    "**Sanity check**: The accuracy should be 55.9%"
   ]
  },
  {
   "cell_type": "code",
   "execution_count": 16,
   "metadata": {
    "collapsed": false
   },
   "outputs": [
    {
     "name": "stdout",
     "output_type": "stream",
     "text": [
      "3 classes in key: set(['NEG', 'NEU', 'POS'])\n",
      "3 classes in response: set(['NEG', 'NEU', 'POS'])\n",
      "confusion matrix\n",
      "key\\response:\tNEG\tNEU\tPOS\n",
      "NEG\t\t220\t17\t164\t\n",
      "NEU\t\t61\t17\t114\t\n",
      "POS\t\t51\t36\t320\t\n",
      "----------------\n",
      "accuracy: 0.5570 = 557/1000\n",
      "\n",
      "None\n"
     ]
    }
   ],
   "source": [
    "mat = evalClassifier(weights_list,'word_list.txt')\n",
    "print scorer.printScoreMessage(mat)"
   ]
  },
  {
   "cell_type": "raw",
   "metadata": {},
   "source": [
    "Most common type of error is the number of 'negative' tagged words which have been classified as positive. This value comes out to be 164.This might be due to the fact that these words occur more frequently in the files labeled positive in the dev dataset.\n",
    "Both positive and negative have been assigned equal weights and offset given a large value to resolve the tie."
   ]
  },
  {
   "cell_type": "markdown",
   "metadata": {},
   "source": [
    "# 3. Naive Bayes #\n",
    "(_Completing learnNBWeights() - 5 pts, Deliverable 3a - 1pt, 3b - 1 pt, explanation of plot output - 2pts. Total 8 points for part 3_)\n",
    "\n",
    "Now you will implement a Naive Bayes classifier.\n",
    "\n",
    "You already have the code for the decision function, \"predict\". \n",
    "So you just need to construct a set of weights that correspond to the classifier. \n",
    "These weights will contain two parameters:\n",
    "\n",
    "- $\\log \\mu$ for the offset, which parametrizes the prior $\\log P(y)$\n",
    "- $\\log \\phi$ for the word counts, which parametrizes the likelihood $\\log P(x | y)$\n",
    "\n",
    "You should use maximum *a posteriori* estimation of\n",
    "the parameter $\\phi$,\n",
    "$$\\phi_{j,n} = P(w = n | y = j) = \\frac{\\sum_{i: y_i = j} x_{i,n} + \\alpha}{\\sum_{i:y_i=j} \\sum_{n'} x_{i,n'} + V\\alpha}$$\n",
    "where \n",
    "\n",
    "- $y_i = j$ indicates the class label $j$ for instance $i$\n",
    "- $w=n$ indicates word $n$\n",
    "- $\\alpha$ is the smoothing parameter\n",
    "- $V$ is the total number of words\n",
    "\n",
    "For each class, normalize by the sum of counts of words **in that class**. In other words, $\\sum_j \\phi_{j,n} = 1$ for all $j$. You can estimate $\\log \\phi$ directly if you prefer.\n",
    "\n",
    "For the prior $\\log P(y)$, you can use relative frequency estimation.\n",
    "\n",
    "Both probabilities should be estimated from the training data only.\n",
    "Please write this code yourself -- do not use other libraries, and try to do\n",
    "it without looking at other code online."
   ]
  },
  {
   "cell_type": "code",
   "execution_count": 17,
   "metadata": {
    "collapsed": false
   },
   "outputs": [],
   "source": [
    "from itertools import chain #hint, especially if you're obsessive about being pythonic"
   ]
  },
  {
   "cell_type": "code",
   "execution_count": 18,
   "metadata": {
    "collapsed": false
   },
   "outputs": [],
   "source": [
    "# compute the word counts first, because this can be slow\n",
    "# you may also wish to keep a list of all word types that are observed in the training data\n",
    "counts = defaultdict(lambda : Counter()) # hint\n",
    "class_counts = defaultdict(int) # hint\n",
    "\n",
    "def getCounts_all(datait):\n",
    "    pos_counts = Counter()\n",
    "    neg_counts = Counter()\n",
    "    neu_counts = Counter()\n",
    "    global neg_docCount,pos_docCount, neu_docCount\n",
    "    neg_docCount = 0 \n",
    "    pos_docCount = 0\n",
    "    neu_docCount = 0\n",
    "    \n",
    "    for fcounts, label in datait:\n",
    "        if label == 'POS':\n",
    "            pos_counts += Counter(fcounts)\n",
    "            pos_docCount += 1\n",
    "        elif label == 'NEG':\n",
    "            neg_counts += Counter(fcounts)\n",
    "            neg_docCount += 1\n",
    "        elif label == 'NEU':\n",
    "            neu_counts += Counter(fcounts)\n",
    "            neu_docCount += 1\n",
    "    return pos_counts,neg_counts,neu_counts\n",
    "\n",
    "pos_train,neg_train,neu_train  = getCounts_all(dataIterator('train-imdb.key'))\n",
    "\n",
    "pos_sum = sum(pos_train.values())\n",
    "neg_sum = sum(neg_train.values())\n",
    "neu_sum = sum(neu_train.values())\n",
    "\n",
    "total_words = len(ac_train.keys())-1\n",
    "total_docCount  = pos_docCount + neg_docCount + neu_docCount"
   ]
  },
  {
   "cell_type": "markdown",
   "metadata": {},
   "source": [
    "You should write a *function* to compute the weights for a given value of $\\alpha$, \n",
    "because you will want to vary this value later."
   ]
  },
  {
   "cell_type": "code",
   "execution_count": 19,
   "metadata": {
    "collapsed": false
   },
   "outputs": [],
   "source": [
    "def learnNBWeights(alpha=0.1):\n",
    "    weights =  defaultdict(float)# your code here\n",
    "    bayes_numerator = float()\n",
    "    bayes_denominator = float()\n",
    "    log_phi = float()\n",
    "    \n",
    "    for word in pos_train:\n",
    "        bayes_numerator = pos_train[word] + alpha\n",
    "        bayes_denominator = pos_sum + total_words*alpha\n",
    "        log_phi = np.log(bayes_numerator) - np.log(bayes_denominator)\n",
    "        weights.update({('POS',word): log_phi})\n",
    "        \n",
    "    for word in neg_train:\n",
    "        bayes_numerator = neg_train[word] + alpha\n",
    "        bayes_denominator = neg_sum + total_words*alpha\n",
    "        log_phi = np.log(bayes_numerator) - np.log(bayes_denominator)\n",
    "        weights.update({('NEG',word): log_phi})\n",
    "        \n",
    "    for word in neu_train:\n",
    "        bayes_numerator = neu_train[word] + alpha\n",
    "        bayes_denominator = neu_sum + total_words*alpha\n",
    "        log_phi = np.log(bayes_numerator) - np.log(bayes_denominator)\n",
    "        weights.update({('NEU',word): log_phi})\n",
    "    \n",
    "    weights.update({('POS',offset): (np.log(pos_docCount)- np.log(total_docCount))})\n",
    "    weights.update({('NEG',offset): (np.log(neg_docCount)- np.log(total_docCount))})\n",
    "    weights.update({('NEU',offset): (np.log(neu_docCount)- np.log(total_docCount))})  \n",
    "    return weights\n",
    "\n",
    "    "
   ]
  },
  {
   "cell_type": "markdown",
   "metadata": {},
   "source": [
    "**Deliverable 3a**\n",
    "Train a classifier from the training data, and apply it to\n",
    "the development data, with $\\alpha = 0.1$. Report the confusion matrix and the accuracy."
   ]
  },
  {
   "cell_type": "code",
   "execution_count": 20,
   "metadata": {
    "collapsed": false
   },
   "outputs": [],
   "source": [
    "# compute the weights\n",
    "weights_nb = learnNBWeights(alpha=0.1)"
   ]
  },
  {
   "cell_type": "markdown",
   "metadata": {},
   "source": [
    "**Sanity check**: For the following instance, I get the scores shown."
   ]
  },
  {
   "cell_type": "code",
   "execution_count": 21,
   "metadata": {
    "collapsed": false
   },
   "outputs": [
    {
     "data": {
      "text/plain": [
       "('NEG',\n",
       " defaultdict(<type 'int'>, {'NEG': -34.774652009636632, 'NEU': -40.685465798167527, 'POS': -44.324484194528054}))"
      ]
     },
     "execution_count": 21,
     "metadata": {},
     "output_type": "execute_result"
    }
   ],
   "source": [
    "predict({'good':1,'worst':4,offset:1},weights_nb,all_labels)"
   ]
  },
  {
   "cell_type": "code",
   "execution_count": 22,
   "metadata": {
    "collapsed": false
   },
   "outputs": [
    {
     "name": "stdout",
     "output_type": "stream",
     "text": [
      "3 classes in key: set(['NEG', 'NEU', 'POS'])\n",
      "3 classes in response: set(['NEG', 'NEU', 'POS'])\n",
      "confusion matrix\n",
      "key\\response:\tNEG\tNEU\tPOS\n",
      "NEG\t\t101\t268\t32\t\n",
      "NEU\t\t40\t140\t12\t\n",
      "POS\t\t111\t264\t32\t\n",
      "----------------\n",
      "accuracy: 0.2730 = 273/1000\n",
      "\n",
      "None\n"
     ]
    }
   ],
   "source": [
    "# run this code to evaluate your weights\n",
    "mat = evalClassifier(weights_nb,'nb.txt')\n",
    "print scorer.printScoreMessage(mat)"
   ]
  },
  {
   "cell_type": "markdown",
   "metadata": {},
   "source": [
    "**Deliverable 3b** Try at least seven different values of $\\alpha$. Plot the accuracy on both the dev and training sets for each value, using [subplot](http://matplotlib.org/api/pyplot_api.html#matplotlib.pyplot.subplot) to show two plots in the same cell."
   ]
  },
  {
   "cell_type": "code",
   "execution_count": 23,
   "metadata": {
    "collapsed": false
   },
   "outputs": [
    {
     "name": "stdout",
     "output_type": "stream",
     "text": [
      "0.1 0.273\n",
      "0.5 0.288\n",
      "0.9 0.286\n",
      "1 0.291\n",
      "4 0.338\n",
      "9 0.347\n",
      "18 0.329\n",
      "69 0.305\n",
      "100 0.3\n",
      "1000 0.26\n"
     ]
    }
   ],
   "source": [
    "tr_accs = []\n",
    "dv_accs = []\n",
    "alphas = [0.1,0.5,0.9,1,4,9,18,69,100,1000]\n",
    "weights_nb_alphas = dict()\n",
    "for alpha in alphas:\n",
    "    print alpha,\n",
    "    # learn the weights\n",
    "    weights_nb_alphas[alpha] = learnNBWeights(alpha) \n",
    "    # evaluate on training data\n",
    "    confusion = evalClassifier(weights_nb_alphas[alpha],'nb.alpha.tr.txt',trainkey)\n",
    "    tr_accs.append(scorer.accuracy(confusion))\n",
    "    # evaluate on dev data\n",
    "    confusion = evalClassifier(weights_nb_alphas[alpha],'nb.alpha.dv.txt',devkey)\n",
    "    dv_accs.append(scorer.accuracy(confusion))\n",
    "    print dv_accs[-1]"
   ]
  },
  {
   "cell_type": "code",
   "execution_count": 24,
   "metadata": {
    "collapsed": false
   },
   "outputs": [
    {
     "data": {
      "text/plain": [
       "<matplotlib.text.Text at 0x9e42d90>"
      ]
     },
     "execution_count": 24,
     "metadata": {},
     "output_type": "execute_result"
    },
    {
     "data": {
      "image/png": "[encoded data removed]",
      "text/plain": [
       "<matplotlib.figure.Figure at 0x7014a70>"
      ]
     },
     "metadata": {},
     "output_type": "display_data"
    }
   ],
   "source": [
    "# run this code to plot the accuracies\n",
    "subplot(1,2,1)\n",
    "plot(log(alphas),tr_accs,'bx-')\n",
    "ylabel('training accuracy')\n",
    "subplot(1,2,2)\n",
    "plot(log(alphas),dv_accs,'rx-')\n",
    "ylabel('dev. accuracy')"
   ]
  },
  {
   "cell_type": "raw",
   "metadata": {},
   "source": [
    "With negligible values of smoothing parameter(or absence of it), for any new word, the naive bayes classifier gives a zero probability without any consideration for prior liklihood. Adding the smoothing parameter helps it learn to classify new encountered words correctly. With fine balance of smoothing parameter, naive bayes classifier performs well - on both training and unseen dev data. \n",
    "With large values of smoothing parameter, it becomes the dominating factor and classifies most of the words in a single class irrespective of the evidence.\n",
    "Also it represents, a bias variance tradeoff where training accuracy reaches only a maximum limit since its a linear classifier.\n"
   ]
  },
  {
   "cell_type": "markdown",
   "metadata": {},
   "source": [
    "# 4. Feature Analysis #\n",
    "\n",
    "(_Completing  getTopFeats() - 2 pts, Deliverable 4a - 1pt, 4b - 2 pts, 4c - 2 pts, 4d -5pts . Total 7 pts for CS4650 and 12 pts for CS7650_)\n"
   ]
  },
  {
   "cell_type": "markdown",
   "metadata": {},
   "source": [
    "**Deliverable 4a**\n",
    "What are the words that are most predictive of positive versus negative text?\n",
    "You can measure this by $\\log \\theta_{pos,n} - \\log \\theta_{neg,n}$ (which is similar to the [likelihood ratio test](http://en.wikipedia.org/wiki/Likelihood-ratio_test)).\n",
    "Use $\\alpha = 1$ from the dev data.\n",
    "\n",
    "List the top five words and their counts for each class. Do the same for the top 5 words that predict negative versus positive.\n",
    "\n",
    "Consider using [operator.itemgetter()](http://docs.python.org/2.7/library/operator.html) for easily sorting dictionaries by their values. See my definition of the argmax function above."
   ]
  },
  {
   "cell_type": "code",
   "execution_count": 25,
   "metadata": {
    "collapsed": false
   },
   "outputs": [],
   "source": [
    "def getTopFeats(weights,class1,class2,K=5):\n",
    "    class1_Dict = defaultdict(float)\n",
    "    class2_Dict = defaultdict(float)\n",
    "    class_Ratio = defaultdict(float)\n",
    "    for word,value in weights.iteritems():\n",
    "        if word[0] == class1:\n",
    "            class1_Dict[word[1]] = value\n",
    "        elif word[0] == class2:\n",
    "            class2_Dict[word[1]] = value\n",
    "    intersect = set(class1_Dict.keys()).intersection(set(class2_Dict.keys()))\n",
    "    for word in intersect:\n",
    "        class_Ratio[word] = class1_Dict[word] - class2_Dict[word]\n",
    "    sorted_list = sorted(class_Ratio.iteritems(), key=operator.itemgetter(1), reverse = True)\n",
    "    count_list = [ (k[0],( pos_train[k[0]],  neg_train[k[0]],  neu_train[k[0]])) for k in sorted_list[:K]]\n",
    "    return count_list\n",
    "  "
   ]
  },
  {
   "cell_type": "code",
   "execution_count": 26,
   "metadata": {
    "collapsed": false
   },
   "outputs": [
    {
     "name": "stdout",
     "output_type": "stream",
     "text": [
      "Following format is used: (word,(Positive_wordCount, Negative_wordCount, Neutral_wordCount))\n",
      "[('subtle', (30, 1, 5)), ('emotions', (26, 1, 9)), ('themes', (26, 1, 8)), ('homer', (26, 1, 0)), ('victor', (19, 1, 4))]\n",
      "[('awful', (4, 103, 19)), ('redeeming', (1, 26, 1)), ('lance', (1, 24, 0)), ('hulk', (1, 23, 0)), ('waste', (7, 82, 8))]\n"
     ]
    }
   ],
   "source": [
    "# run this\n",
    "print \"Following format is used: (word,(Positive_wordCount, Negative_wordCount, Neutral_wordCount))\"\n",
    "print getTopFeats(weights_nb_alphas[1],'POS','NEG')\n",
    "print getTopFeats(weights_nb_alphas[1],'NEG','POS')"
   ]
  },
  {
   "cell_type": "markdown",
   "metadata": {},
   "source": [
    "**Deliverable 4b** Now do the same thing for $\\alpha = 100$. Which words look better to you? \n",
    "Which gave better accuracy? \n",
    "Explain what you think is going on."
   ]
  },
  {
   "cell_type": "code",
   "execution_count": 27,
   "metadata": {
    "collapsed": false
   },
   "outputs": [
    {
     "name": "stdout",
     "output_type": "stream",
     "text": [
      "Following format is used: (word,(Positive_wordCount, Negative_wordCount, Neutral_wordCount))\n",
      "[('great', (457, 133, 164)), ('best', (311, 107, 85)), ('excellent', (114, 19, 27)), ('wonderful', (100, 13, 15)), ('love', (284, 123, 71))]\n",
      "[('bad', (127, 496, 130)), ('worst', (17, 169, 25)), ('awful', (4, 103, 19)), ('worse', (17, 111, 15)), ('waste', (7, 82, 8))]\n"
     ]
    }
   ],
   "source": [
    "# run this\n",
    "print \"Following format is used: (word,(Positive_wordCount, Negative_wordCount, Neutral_wordCount))\"\n",
    "print getTopFeats(weights_nb_alphas[100],'POS','NEG')\n",
    "print getTopFeats(weights_nb_alphas[100],'NEG','POS')"
   ]
  },
  {
   "cell_type": "raw",
   "metadata": {},
   "source": [
    "When smoothing parameter has a negligible value or is 0,the naive bayes classifier gives a zero probability for newly encountered words without any consideration for prior likelihood. Adding the smoothing parameter helps it learn to classify new encountered words correctly.This helps in improving accuracy.\n",
    "For alpha = 100, even though the naive bayes classifier performs well compared to when alpha = 1, its not the best performance as can be seen from the graph. The classifier reaches peak accuracy around 9 or 10. \n",
    "Results for alpha = 9: More strong words like 'greatest' can be observed.\n",
    "\n",
    "[('wonderful', (100, 13, 15)), ('excellent', (114, 19, 27)), ('superb', (44, 4, 6)), ('greatest', (39, 3, 14)), ('subtle', (30, 1, 5))]\n",
    "[('awful', (4, 103, 19)), ('worst', (17, 169, 25)), ('waste', (7, 82, 8)), ('stupid', (10, 83, 23)), ('worse', (17, 111, 15))]\n",
    "\n",
    "With fine balance of smoothing parameter, naive bayes classifier performs well : on  training and unseen data. \n"
   ]
  },
  {
   "cell_type": "markdown",
   "metadata": {},
   "source": [
    "**Deliverable 4c** Consider the weights for $\\alpha=100$. \n",
    "\n",
    "- Print words $w$ that are in the positive lexicon, but for which $\\log \\phi_{neg,w} > \\log \\phi_{pos,w} + 0.1$. \n",
    "    - (These words are more likely in the negative class, despite being in the positive lexicon.)\n",
    "- Print words $w$ that are in the negative lexicon, but for which the $\\log \\phi_{pos,w} > \\log \\phi_{neg,w} + 0.1$. \n",
    "    - (These words are more likely in the positive class, despite being in the negative lexicon.)\n"
   ]
  },
  {
   "cell_type": "code",
   "execution_count": 29,
   "metadata": {
    "collapsed": false
   },
   "outputs": [
    {
     "name": "stdout",
     "output_type": "stream",
     "text": [
      "Words which despite being in positive lexicon are classified negative: \n",
      "['compassion', 'ovation', 'delightfully', 'veritable', 'elegant', 'crave', 'valiant', 'liberty', 'feisty', 'romantically', 'joyous', 'want', 'unforgettable', 'preferably', 'preferable', 'dignified', 'astoundingly', 'devote', 'admirably', 'better', 'entranced', 'herald', 'sparkle', 'aspire', 'angelic', 'playfully', 'encouraging', 'thoughtfully', 'insightful', 'congratulatory', 'fabulous', 'enchanted', 'wholesome', 'exonerate', 'endear', 'marvelously', 'quaint', 'gutsy', 'foremost', 'relish', 'monumental', 'stunningly', 'pacifist', 'fragrant', 'sensitivity', 'humankind', 'tolerance', 'idyllic', 'exemplary', 'majestic', 'gratitude', 'privilege', 'idol', 'shimmering', 'admiration', 'delight', 'renaissance', 'groundbreaking', 'stupendous', 'just', 'zeal', 'splendor', 'revel', 'superlative', 'delighted', 'unpretentious', 'overjoyed', 'vitality', 'congratulations', 'incisive', 'soothe', 'excel', 'trepidation', 'intimacy', 'undoubted', 'befriend', 'grateful', 'devoted', 'devotee', 'amaze', 'engrossing', 'comforting', 'kindliness', 'ingenuous', 'momentous', 'gorgeously', 'breathtaking', 'vivid', 'cherished', 'indescribable', 'eloquent', 'sworn', 'paramount', 'praiseworthy', 'amuse', 'explicit', 'dreamland', 'yearn', 'solace', 'truthful', 'richly', 'giddy', 'boundless', 'sensationally', 'truthfully', 'terrifying', 'optimism', 'glossy', 'sublime', 'astonishingly', 'indelible', 'expertly', 'supremely', 'flawlessly', 'explicitly', 'infallible', 'pinnacle', 'heartwarming', 'wonder', 'steadfast', 'jovial', 'adroit', 'satisfaction', 'understated', 'blessing', 'scrupulously', 'offbeat', 'wisely', 'deft', 'cheery', 'enchanting', 'delectable', 'knowledgeable', 'lavish', 'joyful', 'grit', 'sensational', 'miraculous', 'redeeming', 'eloquence', 'zest', 'fondness', 'boldly', 'chivalry', 'tranquility', 'regard', 'curiously', 'exemplar', 'ingeniously', 'ideally', 'unparalleled', 'coherence', 'repay', 'carefree', 'candid', 'judicious', 'everlasting', 'dashing', 'whimsical', 'excellently', 'zenith', 'sacred', 'okay', 'heartfelt', 'perceptive', 'harmless', 'lovably', 'sweeping', 'respectful', 'terrify', 'glitter', 'applaud', 'salute', 'boldness', 'extraordinary', 'terrifyingly', 'obedience', 'kind', 'hilariousness', 'blissful', 'liberate', 'impressively', 'pretty', 'terrifically', 'unfettered', 'wow', 'please', 'adored', 'majesty', 'civility', 'comrades', 'credence', 'funny', 'salvation', 'inspirational', 'elegance', 'shrewdly', 'bravery', 'fabulously', 'pithy', 'manifest', 'consensus', 'entice', 'impassioned', 'fanfare', 'irresistible', 'proficient', 'exceeding', 'togetherness', 'reverence', 'radiant', 'graciously', 'graceful', 'smitten', 'phenomenally', 'destinies', 'admiring', 'suave', 'felicity', 'outdo', 'sensation', 'exuberant', 'justification', 'talent', 'meek', 'indulgence', 'magnificently', 'invincibility', 'unquestionably', 'insistent', 'justifiably', 'tact', 'honestly', 'glee', 'richness', 'incorruptible', 'handy', 'mastery', 'sentiment', 'superbly', 'honorable', 'craving', 'ethical', 'salutary', 'vouch', 'aspiration', 'devotion', 'chivalrous', 'tidy', 'skillful', 'passionately', 'hopeful', 'marvels', 'preach', 'yearning', 'complement', 'joke', 'penetrating', 'attest', 'lush', 'impeccably', 'rightfully', 'fascinate', 'scruples', 'earnestly', 'like', 'vibrant', 'liking', 'rewarding', 'humorously', 'obey', 'surge', 'articulate', 'esteem', 'doubtless', 'stirring', 'supreme']\n",
      "Words which despite being in negative lexicon are classified positive: \n",
      "['protest', 'mirage', 'offenses', 'venom', 'superficially', 'berate', 'smack', 'bewildered', 'harried', 'brutish', 'rife', 'deplorable', 'overdo', 'monotonous', 'deadbeat', 'weirdly', 'angrily', 'cannibal', 'insult', 'adamant', 'heartless', 'degenerate', 'fanaticism', 'complacent', 'scourge', 'fiendish', 'awfulness', 'grievous', 'repulsive', 'superficiality', 'misfortune', 'struggle', 'thankless', 'enraged', 'overact', 'horrendously', 'conspicuously', 'preposterous', 'rattle', 'staggeringly', 'impotent', 'digress', 'foolishly', 'ludicrous', 'degradation', 'overbearing', 'repugnant', 'disprove', 'blasted', 'obscenity', 'freakish', 'sly', 'mangle', 'pessimistic', 'stink', 'incorrectly', 'haggard', 'ragged', 'fanatically', 'puzzling', 'pitiful', 'disadvantage', 'contradict', 'stern', 'gruesomely', 'foe', 'burn', 'genocide', 'guile', 'derision', 'forgetful', 'emotional', 'radically', 'leer', 'superfluous', 'geezer', 'illogic', 'unnervingly', 'backward', 'adamantly', 'empathize', 'abhorrent', 'weakening', 'jerk', 'mourn', 'distasteful', 'irritated', 'havoc', 'drunkard', 'boast', 'stew', 'atrocious', 'nauseating', 'insultingly', 'unruly', 'drama', 'mar', 'irrational', 'scoff', 'shockingly', 'disheartening', 'careless', 'overworked', 'stench', 'incongruous', 'awfully', 'shortcomings', 'heretical', 'impractical', 'mislead', 'oppressive', 'slaves', 'yawn', 'deign', 'unravel', 'sabotage', 'imbecile', 'disgruntled', 'slashing', 'inappropriately', 'floundering', 'foreboding', 'inexplicable', 'caricature', 'concede', 'squash', 'abject', 'irrelevant', 'ineptly', 'resentful', 'underestimate', 'pedantic', 'infuriatingly', 'idiotically', 'objection', 'demean', 'stinking', 'darn', 'monstrosity', 'ulterior', 'dastardly', 'curses', 'futile', 'downer', 'gibberish', 'quandary', 'ax', 'abyss', 'disgraceful', 'midget', 'unattractive', 'pitifully', 'consternation', 'unrest', 'hideous', 'overdone', 'liars', 'misery', 'unthinkable', 'wretched', 'flak', 'blah', 'sickeningly', 'unlucky', 'gasp', 'refuse', 'spiteful', 'crippling', 'annoyingly', 'outraged', 'bereft', 'motley', 'agitated', 'fanatics', 'stodgy', 'intolerable', 'disorganized', 'vainly', 'gullible', 'bellicose', 'laughably', 'dire', 'rack', 'zealot', 'pains', 'sympathies', 'depressingly', 'miseries', 'abysmally', 'shabby', 'insufferably', 'lackadaisical', 'unreasonable', 'ugh', 'languid', 'aghast', 'discord', 'insinuating', 'naughty', 'cringe', 'bloated', 'spiritless', 'smother', 'worthless', 'filth', 'ineptitude', 'chatter', 'distressed', 'fun', 'loot', 'shoddy', 'gall', 'discredit', 'haunting', 'distracting', 'skeptical', 'mediocrity', 'insincere', 'pathetically', 'selfishness', 'wayward', 'ordeal', 'incoherence', 'obscenely', 'hysterics', 'inexcusable', 'mishandle', 'tragically', 'rejection', 'shortcoming', 'raging', 'deprive', 'nationalism', 'grind', 'inglorious', 'wrongly', 'bravado', 'mindlessly', 'implausibly', 'implausible', 'incoherent', 'excruciating', 'abominable', 'rotten', 'upsetting', 'contradiction', 'bitterly', 'disgustingly', 'fiend', 'insincerity', 'sore', 'overzealous', 'pout', 'embarrassingly', 'cliched', 'abrasive', 'furiously', 'incompetence', 'disrespecting', 'doubtful', 'tyrant', 'blatant', 'inconsistencies', 'crass', 'disregard', 'radical', 'shambles', 'implode', 'embarrass', 'galling', 'obstacle', 'keen', 'gratuitously', 'boil', 'sloppily', 'unscrupulous', 'dreary', 'egregious', 'sardonic', 'pitiable', 'embroiled', 'alarmed', 'appallingly', 'fiasco', 'maddeningly', 'madman', 'smutty', 'indignant', 'humiliation', 'catastrophic', 'lazy', 'dungeon', 'derogatory', 'tricky', 'bemoan', 'exclaim', 'insidious', 'bewildering', 'shameless', 'lecherous', 'irate', 'glaring', 'garish', 'reactionary', 'raving', 'excessive', 'morbidly', 'incessant', 'flagrant', 'stuffy', 'disbelief', 'inaccurate', 'fatalistic', 'diabolical', 'agonizing', 'heresy', 'contradictory', 'wince', 'grate', 'wretchedly', 'excruciatingly', 'treason']\n"
     ]
    }
   ],
   "source": [
    "pos_list = []\n",
    "neg_list = []\n",
    "for word in poswords:\n",
    "    if weights_nb_alphas[100].has_key(('NEG',word)) and (weights_nb_alphas[100][('NEG',word)] - weights_nb_alphas[100][('POS',word)]) > 0.1:\n",
    "        pos_list.append(word)\n",
    "for word in negwords:\n",
    "    if weights_nb_alphas[100].has_key(('POS',word)) and (weights_nb_alphas[100][('POS',word)] - weights_nb_alphas[100][('NEG',word)]) > 0.1:\n",
    "        neg_list.append(word)\n",
    "        \n",
    "print \"Words which despite being in positive lexicon are classified negative: \" \n",
    "print pos_list\n",
    "print \"Words which despite being in negative lexicon are classified positive: \" \n",
    "print neg_list"
   ]
  },
  {
   "cell_type": "markdown",
   "metadata": {},
   "source": [
    "Food for Thought: \n",
    "\n",
    "What do you think is going on here? Pick one of these words, and look for example reviews that contain it (using [grep](http://en.wikipedia.org/wiki/Grep)). \n",
    "\n",
    "Is the word used in the opposite sense, or is there some other explanation?"
   ]
  },
  {
   "cell_type": "raw",
   "metadata": {},
   "source": [
    "Consider a word which should have been in positive lexicon but is instead in the negative lexicon:Scourge\n",
    "It occurs once in train/10448_1.txt - Classification 'Negative'\n",
    "Sentence containing the word : This is the first time I've ever posted a movie review, but I felt so strongly that somebody must speak out against this scourge of cinematography.\n",
    "\n",
    "The word in this sentence is used in negative sense only.\n",
    "\n",
    "The log-probability for 'scourge' being found in the positive subset rather than negative one is,\n",
    "log(100/(Positive_worcount + vocabSize*100)) - log(101/(Negative_wordcount + vocabSize*100)).\n",
    "\n"
   ]
  },
  {
   "cell_type": "code",
   "execution_count": 28,
   "metadata": {
    "collapsed": false
   },
   "outputs": [],
   "source": []
  },
  {
   "cell_type": "code",
   "execution_count": null,
   "metadata": {
    "collapsed": false
   },
   "outputs": [],
   "source": []
  }
 ],
 "metadata": {
  "kernelspec": {
   "display_name": "Python 2",
   "language": "python",
   "name": "python2"
  },
  "language_info": {
   "codemirror_mode": {
    "name": "ipython",
    "version": 2
   },
   "file_extension": ".py",
   "mimetype": "text/x-python",
   "name": "python",
   "nbconvert_exporter": "python",
   "pygments_lexer": "ipython2",
   "version": "2.7.10"
  }
 },
 "nbformat": 4,
 "nbformat_minor": 0
}
